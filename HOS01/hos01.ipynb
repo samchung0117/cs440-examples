{
 "cells": [
  {
   "cell_type": "markdown",
   "id": "2ee99c65",
   "metadata": {},
   "source": [
    "# 🧪 Module 1: Python Code Exercise with Case Studies and Fix Explanations\n",
    "**Topic:** Detecting and Fixing Software Faults"
   ]
  },
  {
   "cell_type": "markdown",
   "id": "aa8901c7",
   "metadata": {},
   "source": [
    "## 📘 What This Module Is About\n",
    "\n",
    "This module helps you identify and fix software faults in Python code—specifically **errors**, **defects**, and **failures**. Faults can occur at any stage of the software lifecycle and cause real-world issues such as crashes or incorrect results.\n",
    "\n",
    "### ❓ Why This Is Important\n",
    "Software faults are not just bugs—they represent flaws in logic, understanding, or execution that can cause significant damage if left unchecked. Learning to catch and correct them early is a foundational skill in Software Quality Assurance (SQA).\n"
   ]
  },
  {
   "cell_type": "markdown",
   "id": "efa659ed",
   "metadata": {},
   "source": [
    "## 🎯 Objective\n",
    "Detect and correct software faults through real-world-inspired examples and case studies."
   ]
  },
  {
   "cell_type": "markdown",
   "id": "e313663c",
   "metadata": {},
   "source": [
    "## 🧠 Examples with Case Studies, Fixes, and Explanations"
   ]
  },
  {
   "cell_type": "markdown",
   "id": "5125bb9e",
   "metadata": {},
   "source": [
    "### Example 1: Assignment Instead of Comparison (Error)"
   ]
  },
  {
   "cell_type": "markdown",
   "id": "88476c6f",
   "metadata": {},
   "source": [
    "**Case Study:** A junior developer was asked to write a function that checks if a number is zero. However, they mistakenly used `=` instead of `==`, resulting in a syntax error during execution."
   ]
  },
  {
   "cell_type": "code",
   "execution_count": 1,
   "id": "f9ecb787",
   "metadata": {},
   "outputs": [
    {
     "ename": "SyntaxError",
     "evalue": "invalid syntax. Maybe you meant '==' or ':=' instead of '='? (2016196659.py, line 2)",
     "output_type": "error",
     "traceback": [
      "  \u001b[36mCell\u001b[39m\u001b[36m \u001b[39m\u001b[32mIn[1]\u001b[39m\u001b[32m, line 2\u001b[39m\n\u001b[31m    \u001b[39m\u001b[31mif n = 0:\u001b[39m\n       ^\n\u001b[31mSyntaxError\u001b[39m\u001b[31m:\u001b[39m invalid syntax. Maybe you meant '==' or ':=' instead of '='?\n"
     ]
    }
   ],
   "source": [
    "def is_zero(n):\n",
    "    if n = 0:\n",
    "        return True\n",
    "    return False\n",
    "\n",
    "print(is_zero(3))"
   ]
  },
  {
   "cell_type": "markdown",
   "id": "3e744eaf",
   "metadata": {},
   "source": [
    "✅ **Fix:**"
   ]
  },
  {
   "cell_type": "code",
   "execution_count": 2,
   "id": "070da3f2",
   "metadata": {},
   "outputs": [
    {
     "name": "stdout",
     "output_type": "stream",
     "text": [
      "False\n"
     ]
    }
   ],
   "source": [
    "def is_zero(n):\n",
    "    if n == 0:\n",
    "        return True\n",
    "    return False\n",
    "\n",
    "print(is_zero(3))"
   ]
  },
  {
   "cell_type": "markdown",
   "id": "6464a80d",
   "metadata": {},
   "source": [
    "**Explanation:** The original code used the assignment operator `=` instead of the comparison operator `==`. In Python, `=` assigns values, while `==` checks equality. Using `=` inside a condition causes a syntax error."
   ]
  },
  {
   "cell_type": "markdown",
   "id": "fbba1bf0",
   "metadata": {},
   "source": [
    "### Example 2: Division by Zero (Failure)"
   ]
  },
  {
   "cell_type": "markdown",
   "id": "76c9d3cd",
   "metadata": {},
   "source": [
    "**Case Study:** A product rating system divided the total score by the number of reviews. When there were no reviews, the app crashed due to division by zero."
   ]
  },
  {
   "cell_type": "code",
   "execution_count": 3,
   "id": "279d3bda",
   "metadata": {},
   "outputs": [
    {
     "ename": "ZeroDivisionError",
     "evalue": "division by zero",
     "output_type": "error",
     "traceback": [
      "\u001b[31m---------------------------------------------------------------------------\u001b[39m",
      "\u001b[31mZeroDivisionError\u001b[39m                         Traceback (most recent call last)",
      "\u001b[36mCell\u001b[39m\u001b[36m \u001b[39m\u001b[32mIn[3]\u001b[39m\u001b[32m, line 4\u001b[39m\n\u001b[32m      1\u001b[39m \u001b[38;5;28;01mdef\u001b[39;00m\u001b[38;5;250m \u001b[39m\u001b[34maverage_rating\u001b[39m(total_score, reviews):\n\u001b[32m      2\u001b[39m     \u001b[38;5;28;01mreturn\u001b[39;00m total_score / reviews\n\u001b[32m----> \u001b[39m\u001b[32m4\u001b[39m \u001b[38;5;28mprint\u001b[39m(\u001b[43maverage_rating\u001b[49m\u001b[43m(\u001b[49m\u001b[32;43m85\u001b[39;49m\u001b[43m,\u001b[49m\u001b[43m \u001b[49m\u001b[32;43m0\u001b[39;49m\u001b[43m)\u001b[49m)\n",
      "\u001b[36mCell\u001b[39m\u001b[36m \u001b[39m\u001b[32mIn[3]\u001b[39m\u001b[32m, line 2\u001b[39m, in \u001b[36maverage_rating\u001b[39m\u001b[34m(total_score, reviews)\u001b[39m\n\u001b[32m      1\u001b[39m \u001b[38;5;28;01mdef\u001b[39;00m\u001b[38;5;250m \u001b[39m\u001b[34maverage_rating\u001b[39m(total_score, reviews):\n\u001b[32m----> \u001b[39m\u001b[32m2\u001b[39m     \u001b[38;5;28;01mreturn\u001b[39;00m \u001b[43mtotal_score\u001b[49m\u001b[43m \u001b[49m\u001b[43m/\u001b[49m\u001b[43m \u001b[49m\u001b[43mreviews\u001b[49m\n",
      "\u001b[31mZeroDivisionError\u001b[39m: division by zero"
     ]
    }
   ],
   "source": [
    "def average_rating(total_score, reviews):\n",
    "    return total_score / reviews\n",
    "\n",
    "print(average_rating(85, 0))"
   ]
  },
  {
   "cell_type": "markdown",
   "id": "0217f75d",
   "metadata": {},
   "source": [
    "✅ **Fix:**"
   ]
  },
  {
   "cell_type": "code",
   "execution_count": 4,
   "id": "5ae1484f",
   "metadata": {},
   "outputs": [
    {
     "name": "stdout",
     "output_type": "stream",
     "text": [
      "No reviews yet\n"
     ]
    }
   ],
   "source": [
    "def average_rating(total_score, reviews):\n",
    "    if reviews == 0:\n",
    "        return 'No reviews yet'\n",
    "    return total_score / reviews\n",
    "\n",
    "print(average_rating(85, 0))"
   ]
  },
  {
   "cell_type": "markdown",
   "id": "a0df0dbe",
   "metadata": {},
   "source": [
    "**Explanation:** The issue was that division by zero is not allowed in Python. The fix checks if `reviews` is zero before performing the division, returning a fallback message instead."
   ]
  },
  {
   "cell_type": "markdown",
   "id": "3d53d2bf",
   "metadata": {},
   "source": [
    "### Example 3: Type Mismatch (Defect)"
   ]
  },
  {
   "cell_type": "markdown",
   "id": "1b90c54f",
   "metadata": {},
   "source": [
    "**Case Study:** A function to compute total cost accepted user input from a form as a string. It failed to convert it to a numeric type, leading to a TypeError."
   ]
  },
  {
   "cell_type": "code",
   "execution_count": 5,
   "id": "63ef7d35",
   "metadata": {},
   "outputs": [
    {
     "name": "stdout",
     "output_type": "stream",
     "text": [
      "100100\n"
     ]
    }
   ],
   "source": [
    "def total_cost(price, quantity):\n",
    "    return price * quantity\n",
    "\n",
    "print(total_cost(\"100\", 2))"
   ]
  },
  {
   "cell_type": "markdown",
   "id": "3f5c2c86",
   "metadata": {},
   "source": [
    "✅ **Fix:**"
   ]
  },
  {
   "cell_type": "code",
   "execution_count": 6,
   "id": "47219f8c",
   "metadata": {},
   "outputs": [
    {
     "name": "stdout",
     "output_type": "stream",
     "text": [
      "200.0\n"
     ]
    }
   ],
   "source": [
    "def total_cost(price, quantity):\n",
    "    return float(price) * quantity\n",
    "\n",
    "print(total_cost(\"100\", 2))"
   ]
  },
  {
   "cell_type": "markdown",
   "id": "a3030752",
   "metadata": {},
   "source": [
    "**Explanation:** Since `price` was a string, multiplying it by an integer caused unintended string repetition. Converting `price` to a float fixed the issue and ensured numeric behavior."
   ]
  },
  {
   "cell_type": "markdown",
   "id": "26af7d04",
   "metadata": {},
   "source": [
    "### Example 4: Logic Error in Loop (Error)"
   ]
  },
  {
   "cell_type": "markdown",
   "id": "41fd4d12",
   "metadata": {},
   "source": [
    "**Case Study:** An algorithm was supposed to find the highest test score, but instead returned the lowest due to incorrect comparison logic."
   ]
  },
  {
   "cell_type": "code",
   "execution_count": 7,
   "id": "ebb9eb80",
   "metadata": {},
   "outputs": [
    {
     "name": "stdout",
     "output_type": "stream",
     "text": [
      "0\n"
     ]
    }
   ],
   "source": [
    "def max_score(scores):\n",
    "    max_val = 0\n",
    "    for score in scores:\n",
    "        if score < max_val:\n",
    "            max_val = score\n",
    "    return max_val\n",
    "\n",
    "print(max_score([45, 80, 67]))"
   ]
  },
  {
   "cell_type": "markdown",
   "id": "21f27d45",
   "metadata": {},
   "source": [
    "✅ **Fix:**"
   ]
  },
  {
   "cell_type": "code",
   "execution_count": 8,
   "id": "ede0d113",
   "metadata": {},
   "outputs": [
    {
     "name": "stdout",
     "output_type": "stream",
     "text": [
      "80\n"
     ]
    }
   ],
   "source": [
    "def max_score(scores):\n",
    "    max_val = scores[0]\n",
    "    for score in scores:\n",
    "        if score > max_val:\n",
    "            max_val = score\n",
    "    return max_val\n",
    "\n",
    "print(max_score([45, 80, 67]))"
   ]
  },
  {
   "cell_type": "markdown",
   "id": "740eaaae",
   "metadata": {},
   "source": [
    "**Explanation:** The original logic compared using `<` instead of `>`, resulting in tracking the minimum value. The corrected version uses `>` and initializes with the first item."
   ]
  },
  {
   "cell_type": "markdown",
   "id": "ddf498e9",
   "metadata": {},
   "source": [
    "### Example 5: Off-by-One Indexing (Error)"
   ]
  },
  {
   "cell_type": "markdown",
   "id": "1f48db6f",
   "metadata": {},
   "source": [
    "**Case Study:** In a function to print elements of a list, an off-by-one error caused the program to crash when it accessed an index out of range."
   ]
  },
  {
   "cell_type": "code",
   "execution_count": 9,
   "id": "1ef9de50",
   "metadata": {},
   "outputs": [
    {
     "name": "stdout",
     "output_type": "stream",
     "text": [
      "b\n",
      "c\n"
     ]
    },
    {
     "ename": "IndexError",
     "evalue": "list index out of range",
     "output_type": "error",
     "traceback": [
      "\u001b[31m---------------------------------------------------------------------------\u001b[39m",
      "\u001b[31mIndexError\u001b[39m                                Traceback (most recent call last)",
      "\u001b[36mCell\u001b[39m\u001b[36m \u001b[39m\u001b[32mIn[9]\u001b[39m\u001b[32m, line 5\u001b[39m\n\u001b[32m      2\u001b[39m     \u001b[38;5;28;01mfor\u001b[39;00m i \u001b[38;5;129;01min\u001b[39;00m \u001b[38;5;28mrange\u001b[39m(\u001b[38;5;28mlen\u001b[39m(items)):\n\u001b[32m      3\u001b[39m         \u001b[38;5;28mprint\u001b[39m(items[i+\u001b[32m1\u001b[39m])\n\u001b[32m----> \u001b[39m\u001b[32m5\u001b[39m \u001b[43mprint_items\u001b[49m\u001b[43m(\u001b[49m\u001b[43m[\u001b[49m\u001b[33;43m'\u001b[39;49m\u001b[33;43ma\u001b[39;49m\u001b[33;43m'\u001b[39;49m\u001b[43m,\u001b[49m\u001b[43m \u001b[49m\u001b[33;43m'\u001b[39;49m\u001b[33;43mb\u001b[39;49m\u001b[33;43m'\u001b[39;49m\u001b[43m,\u001b[49m\u001b[43m \u001b[49m\u001b[33;43m'\u001b[39;49m\u001b[33;43mc\u001b[39;49m\u001b[33;43m'\u001b[39;49m\u001b[43m]\u001b[49m\u001b[43m)\u001b[49m\n",
      "\u001b[36mCell\u001b[39m\u001b[36m \u001b[39m\u001b[32mIn[9]\u001b[39m\u001b[32m, line 3\u001b[39m, in \u001b[36mprint_items\u001b[39m\u001b[34m(items)\u001b[39m\n\u001b[32m      1\u001b[39m \u001b[38;5;28;01mdef\u001b[39;00m\u001b[38;5;250m \u001b[39m\u001b[34mprint_items\u001b[39m(items):\n\u001b[32m      2\u001b[39m     \u001b[38;5;28;01mfor\u001b[39;00m i \u001b[38;5;129;01min\u001b[39;00m \u001b[38;5;28mrange\u001b[39m(\u001b[38;5;28mlen\u001b[39m(items)):\n\u001b[32m----> \u001b[39m\u001b[32m3\u001b[39m         \u001b[38;5;28mprint\u001b[39m(\u001b[43mitems\u001b[49m\u001b[43m[\u001b[49m\u001b[43mi\u001b[49m\u001b[43m+\u001b[49m\u001b[32;43m1\u001b[39;49m\u001b[43m]\u001b[49m)\n",
      "\u001b[31mIndexError\u001b[39m: list index out of range"
     ]
    }
   ],
   "source": [
    "def print_items(items):\n",
    "    for i in range(len(items)):\n",
    "        print(items[i+1])\n",
    "\n",
    "print_items(['a', 'b', 'c'])"
   ]
  },
  {
   "cell_type": "markdown",
   "id": "ea6acfc5",
   "metadata": {},
   "source": [
    "✅ **Fix:**"
   ]
  },
  {
   "cell_type": "code",
   "execution_count": null,
   "id": "85a34a2a",
   "metadata": {},
   "outputs": [],
   "source": [
    "def print_items(items):\n",
    "    for i in range(len(items)):\n",
    "        print(items[i])\n",
    "\n",
    "print_items(['a', 'b', 'c'])"
   ]
  },
  {
   "cell_type": "markdown",
   "id": "1e9b9d7f",
   "metadata": {},
   "source": [
    "**Explanation:** Accessing `i+1` on the last index leads to an IndexError. The corrected code simply accesses `items[i]`, which stays within bounds."
   ]
  },
  {
   "cell_type": "markdown",
   "id": "6c7c6bf0",
   "metadata": {},
   "source": [
    "## 📝 Try It Yourself: Student Exercises"
   ]
  },
  {
   "cell_type": "markdown",
   "id": "1b685ab1",
   "metadata": {},
   "source": [
    "### Exercise 1\n",
    "**Task:** Fix the missing operand in the return statement."
   ]
  },
  {
   "cell_type": "code",
   "execution_count": 10,
   "id": "cf3e670d",
   "metadata": {},
   "outputs": [
    {
     "ename": "SyntaxError",
     "evalue": "invalid syntax (1238712160.py, line 2)",
     "output_type": "error",
     "traceback": [
      "  \u001b[36mCell\u001b[39m\u001b[36m \u001b[39m\u001b[32mIn[10]\u001b[39m\u001b[32m, line 2\u001b[39m\n\u001b[31m    \u001b[39m\u001b[31mreturn a *\u001b[39m\n              ^\n\u001b[31mSyntaxError\u001b[39m\u001b[31m:\u001b[39m invalid syntax\n"
     ]
    }
   ],
   "source": [
    "def multiply(a, b):\n",
    "    return a *\n",
    "\n",
    "print(multiply(3, 4))"
   ]
  },
  {
   "cell_type": "markdown",
   "id": "25088aa1",
   "metadata": {},
   "source": [
    "### Exercise 2\n",
    "**Task:** Correct the use of `=` where a comparison is expected."
   ]
  },
  {
   "cell_type": "code",
   "execution_count": 11,
   "id": "2b384f37",
   "metadata": {},
   "outputs": [
    {
     "ename": "SyntaxError",
     "evalue": "invalid syntax. Maybe you meant '==' or ':=' instead of '='? (3065255334.py, line 2)",
     "output_type": "error",
     "traceback": [
      "  \u001b[36mCell\u001b[39m\u001b[36m \u001b[39m\u001b[32mIn[11]\u001b[39m\u001b[32m, line 2\u001b[39m\n\u001b[31m    \u001b[39m\u001b[31mif name = \"\":\u001b[39m\n       ^\n\u001b[31mSyntaxError\u001b[39m\u001b[31m:\u001b[39m invalid syntax. Maybe you meant '==' or ':=' instead of '='?\n"
     ]
    }
   ],
   "source": [
    "def greet(name):\n",
    "    if name = \"\":\n",
    "        return \"Hello, Guest!\"\n",
    "    return f\"Hello, {name}\"\n",
    "\n",
    "print(greet(\"\"))"
   ]
  },
  {
   "cell_type": "markdown",
   "id": "4f49fae0",
   "metadata": {},
   "source": [
    "### Exercise 3\n",
    "**Task:** Correct the typo in the variable name to avoid a NameError."
   ]
  },
  {
   "cell_type": "code",
   "execution_count": null,
   "id": "78d0faa9",
   "metadata": {},
   "outputs": [],
   "source": [
    "def circle_area(radius):\n",
    "    return 3.14 * radius * radus\n",
    "\n",
    "print(circle_area(5))"
   ]
  },
  {
   "cell_type": "markdown",
   "id": "e26dd972",
   "metadata": {},
   "source": [
    "### Exercise 4\n",
    "**Task:** Fix the loop to ensure all values are included in the sum."
   ]
  },
  {
   "cell_type": "code",
   "execution_count": null,
   "id": "43805adb",
   "metadata": {},
   "outputs": [],
   "source": [
    "def total(lst):\n",
    "    sum = 0\n",
    "    for i in range(1, len(lst)):\n",
    "        sum += lst[i]\n",
    "    return sum\n",
    "\n",
    "print(total([1, 2, 3, 4]))"
   ]
  },
  {
   "cell_type": "markdown",
   "id": "7e657010",
   "metadata": {},
   "source": [
    "### Exercise 5\n",
    "**Task:** Avoid runtime error from dividing by zero."
   ]
  },
  {
   "cell_type": "code",
   "execution_count": null,
   "id": "1bc59845",
   "metadata": {},
   "outputs": [],
   "source": [
    "def divide(a, b):\n",
    "    return a / b\n",
    "\n",
    "print(divide(10, 0))"
   ]
  }
 ],
 "metadata": {
  "kernelspec": {
   "display_name": "Python 3 (ipykernel)",
   "language": "python",
   "name": "python3"
  }
 },
 "nbformat": 4,
 "nbformat_minor": 5
}
