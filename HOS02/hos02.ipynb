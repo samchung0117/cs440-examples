{
 "cells": [
  {
   "cell_type": "markdown",
   "id": "0ad6bdfb",
   "metadata": {},
   "source": [
    "# 🧪 Module 2: Python Code Exercise with Case Studies\n",
    "**Topic:** Non-Functional Requirements & Code Improvement"
   ]
  },
  {
   "cell_type": "markdown",
   "id": "10a6c32f",
   "metadata": {},
   "source": [
    "## 📘 What This Module Is About\n",
    "\n",
    "This module focuses on improving Python code to meet **non-functional requirements** such as performance, security, and maintainability. These requirements are just as important as functional requirements but focus on how the software operates rather than what it does.\n",
    "\n",
    "### ❓ Why This Is Important\n",
    "Software can be functional but still fail to meet important standards such as performance or security. Improving code for efficiency, security, and maintainability helps ensure that your software is robust, safe, and scalable. By applying these principles early, developers avoid costly issues later in the software lifecycle.\n"
   ]
  },
  {
   "cell_type": "markdown",
   "id": "afa403f7",
   "metadata": {},
   "source": [
    "## 🎯 Objective\n",
    "Refactor and improve Python code based on common non-functional requirements."
   ]
  },
  {
   "cell_type": "markdown",
   "id": "ba6904cf",
   "metadata": {},
   "source": [
    "## 🧠 Examples with Case Studies"
   ]
  },
  {
   "cell_type": "markdown",
   "id": "2dd22446",
   "metadata": {},
   "source": [
    "### Example 1: Performance – Avoid Nested Loops"
   ]
  },
  {
   "cell_type": "markdown",
   "id": "5123f284",
   "metadata": {},
   "source": [
    "**Case Study:** A developer wrote a function to check if a list contains duplicates by calling `count()` inside a loop. This leads to inefficient O(n²) time complexity, which becomes problematic as the list size grows."
   ]
  },
  {
   "cell_type": "code",
   "execution_count": 2,
   "id": "93ab5421",
   "metadata": {},
   "outputs": [
    {
     "name": "stdout",
     "output_type": "stream",
     "text": [
      "True\n"
     ]
    }
   ],
   "source": [
    "def has_duplicates(lst):\n",
    "    for i in lst:\n",
    "        if lst.count(i) > 1:\n",
    "            return True\n",
    "    return False\n",
    "\n",
    "print(has_duplicates([1, 2, 3, 4, 1]))"
   ]
  },
  {
   "cell_type": "markdown",
   "id": "f469e580",
   "metadata": {},
   "source": [
    "✅ **Fix:**"
   ]
  },
  {
   "cell_type": "code",
   "execution_count": null,
   "id": "fd4c80cd",
   "metadata": {},
   "outputs": [
    {
     "name": "stdout",
     "output_type": "stream",
     "text": [
      "True\n"
     ]
    }
   ],
   "source": [
    "def has_duplicates(lst):\n",
    "    seen = set()\n",
    "    for i in lst:\n",
    "        if i in seen:\n",
    "            return True\n",
    "        seen.add(i)\n",
    "    return False\n",
    "\n",
    "print(has_duplicates([1, 2, 3, 4, 1]))"
   ]
  },
  {
   "cell_type": "markdown",
   "id": "5a80c034",
   "metadata": {},
   "source": [
    "**Explanation:** The original code uses `count()`, which iterates over the entire list for each element, leading to quadratic time complexity. Using a set to track seen elements allows us to check for duplicates in linear time, improving performance."
   ]
  },
  {
   "cell_type": "markdown",
   "id": "51842482",
   "metadata": {},
   "source": [
    "### Example 2: Security – Avoid Eval"
   ]
  },
  {
   "cell_type": "markdown",
   "id": "1d236bd0",
   "metadata": {},
   "source": [
    "**Case Study:** A developer used `eval()` to evaluate user input. This allows arbitrary code execution, making the system vulnerable to attacks if users can provide malicious input."
   ]
  },
  {
   "cell_type": "code",
   "execution_count": 1,
   "id": "48c7026b",
   "metadata": {},
   "outputs": [
    {
     "ename": "NameError",
     "evalue": "name 'os' is not defined",
     "output_type": "error",
     "traceback": [
      "\u001b[31m---------------------------------------------------------------------------\u001b[39m",
      "\u001b[31mNameError\u001b[39m                                 Traceback (most recent call last)",
      "\u001b[36mCell\u001b[39m\u001b[36m \u001b[39m\u001b[32mIn[1]\u001b[39m\u001b[32m, line 4\u001b[39m\n\u001b[32m      1\u001b[39m \u001b[38;5;28;01mdef\u001b[39;00m\u001b[38;5;250m \u001b[39m\u001b[34mrun_code\u001b[39m(expr):\n\u001b[32m      2\u001b[39m     \u001b[38;5;28;01mreturn\u001b[39;00m \u001b[38;5;28meval\u001b[39m(expr)\n\u001b[32m----> \u001b[39m\u001b[32m4\u001b[39m \u001b[38;5;28mprint\u001b[39m(\u001b[43mrun_code\u001b[49m\u001b[43m(\u001b[49m\u001b[33;43m\"\u001b[39;49m\u001b[33;43mos.system(\u001b[39;49m\u001b[33;43m'\u001b[39;49m\u001b[33;43mrm -rf /\u001b[39;49m\u001b[33;43m'\u001b[39;49m\u001b[33;43m)\u001b[39;49m\u001b[33;43m\"\u001b[39;49m\u001b[43m)\u001b[49m)\n",
      "\u001b[36mCell\u001b[39m\u001b[36m \u001b[39m\u001b[32mIn[1]\u001b[39m\u001b[32m, line 2\u001b[39m, in \u001b[36mrun_code\u001b[39m\u001b[34m(expr)\u001b[39m\n\u001b[32m      1\u001b[39m \u001b[38;5;28;01mdef\u001b[39;00m\u001b[38;5;250m \u001b[39m\u001b[34mrun_code\u001b[39m(expr):\n\u001b[32m----> \u001b[39m\u001b[32m2\u001b[39m     \u001b[38;5;28;01mreturn\u001b[39;00m \u001b[38;5;28;43meval\u001b[39;49m\u001b[43m(\u001b[49m\u001b[43mexpr\u001b[49m\u001b[43m)\u001b[49m\n",
      "\u001b[36mFile \u001b[39m\u001b[32m<string>:1\u001b[39m\n",
      "\u001b[31mNameError\u001b[39m: name 'os' is not defined"
     ]
    }
   ],
   "source": [
    "def run_code(expr):\n",
    "    return eval(expr)\n",
    "\n",
    "print(run_code(\"os.system('rm -rf /')\"))"
   ]
  },
  {
   "cell_type": "markdown",
   "id": "300c9153",
   "metadata": {},
   "source": [
    "✅ **Fix:**"
   ]
  },
  {
   "cell_type": "code",
   "execution_count": 2,
   "id": "861576bf",
   "metadata": {},
   "outputs": [
    {
     "name": "stdout",
     "output_type": "stream",
     "text": [
      "Error: malformed node or string on line 1: <ast.Call object at 0x7f45381bb050>\n"
     ]
    }
   ],
   "source": [
    "import ast\n",
    "\n",
    "def run_code(expr):\n",
    "    try:\n",
    "        return ast.literal_eval(expr)\n",
    "    except Exception as e:\n",
    "        return f\"Error: {e}\"\n",
    "\n",
    "print(run_code(\"os.system('rm -rf /')\"))"
   ]
  },
  {
   "cell_type": "markdown",
   "id": "cba6738d",
   "metadata": {},
   "source": [
    "**Explanation:** Using `eval()` can execute arbitrary code, which is dangerous. The fix uses `ast.literal_eval()`, which only allows Python literals and is safe from code execution vulnerabilities."
   ]
  },
  {
   "cell_type": "markdown",
   "id": "55cb7d31",
   "metadata": {},
   "source": [
    "### Example 3: Maintainability – Use Config Files for Constants"
   ]
  },
  {
   "cell_type": "markdown",
   "id": "8b258eb8",
   "metadata": {},
   "source": [
    "**Case Study:** A developer hardcoded several configuration values in the code, making it harder to update or maintain. If the values need to be changed, they would have to be manually updated throughout the code."
   ]
  },
  {
   "cell_type": "code",
   "execution_count": 3,
   "id": "0c537ac7",
   "metadata": {},
   "outputs": [
    {
     "name": "stdout",
     "output_type": "stream",
     "text": [
      "Connecting to localhost:3306\n"
     ]
    }
   ],
   "source": [
    "def connect():\n",
    "    host = \"localhost\"\n",
    "    port = 3306\n",
    "    print(f\"Connecting to {host}:{port}\")\n",
    "\n",
    "connect()"
   ]
  },
  {
   "cell_type": "markdown",
   "id": "5773f15c",
   "metadata": {},
   "source": [
    "✅ **Fix:**"
   ]
  },
  {
   "cell_type": "code",
   "execution_count": 6,
   "id": "aa78ab37",
   "metadata": {},
   "outputs": [
    {
     "name": "stdout",
     "output_type": "stream",
     "text": [
      "Connecting to localhost:3306\n"
     ]
    }
   ],
   "source": [
    "HOST = \"localhost\"\n",
    "PORT = 3306\n",
    "\n",
    "def connect():\n",
    "    print(f\"Connecting to {HOST}:{PORT}\")\n",
    "\n",
    "connect()"
   ]
  },
  {
   "cell_type": "markdown",
   "id": "9a58c719",
   "metadata": {},
   "source": [
    "**Explanation:** By moving constants like `HOST` and `PORT` to variables at the top of the file, or even into a configuration file, we make the code more maintainable and easier to update in the future."
   ]
  },
  {
   "cell_type": "markdown",
   "id": "605123ad",
   "metadata": {},
   "source": [
    "### Example 4: Readability – Simplify Conditions"
   ]
  },
  {
   "cell_type": "markdown",
   "id": "f11f9bd5",
   "metadata": {},
   "source": [
    "**Case Study:** The code uses a verbose way of checking whether a boolean variable is `True`. Simplifying this condition improves readability."
   ]
  },
  {
   "cell_type": "code",
   "execution_count": 7,
   "id": "b9681005",
   "metadata": {},
   "outputs": [
    {
     "name": "stdout",
     "output_type": "stream",
     "text": [
      "True\n"
     ]
    }
   ],
   "source": [
    "def is_valid(x):\n",
    "    if x == True:\n",
    "        return True\n",
    "    else:\n",
    "        return False\n",
    "\n",
    "print(is_valid(True))"
   ]
  },
  {
   "cell_type": "markdown",
   "id": "dde04ede",
   "metadata": {},
   "source": [
    "✅ **Fix:**"
   ]
  },
  {
   "cell_type": "code",
   "execution_count": 4,
   "id": "edb30324",
   "metadata": {},
   "outputs": [
    {
     "name": "stdout",
     "output_type": "stream",
     "text": [
      "True\n"
     ]
    }
   ],
   "source": [
    "def is_valid(x):\n",
    "    return x == True\n",
    "\n",
    "print(is_valid(True))"
   ]
  },
  {
   "cell_type": "markdown",
   "id": "aaa6b558",
   "metadata": {},
   "source": [
    "**Explanation:** The condition `if x == True` is redundant. We can simply return `x == True`, which is more concise and readable. This approach avoids unnecessary conditionals."
   ]
  },
  {
   "cell_type": "markdown",
   "id": "affa310e",
   "metadata": {},
   "source": [
    "### Example 5: Accessibility – Provide Default Fallback"
   ]
  },
  {
   "cell_type": "markdown",
   "id": "dbb299c5",
   "metadata": {},
   "source": [
    "**Case Study:** A function that retrieves a user's language preference from a dictionary can break if the key doesn't exist. A fallback value should be provided to prevent errors."
   ]
  },
  {
   "cell_type": "code",
   "execution_count": 5,
   "id": "617984fe",
   "metadata": {},
   "outputs": [
    {
     "ename": "KeyError",
     "evalue": "'language'",
     "output_type": "error",
     "traceback": [
      "\u001b[31m---------------------------------------------------------------------------\u001b[39m",
      "\u001b[31mKeyError\u001b[39m                                  Traceback (most recent call last)",
      "\u001b[36mCell\u001b[39m\u001b[36m \u001b[39m\u001b[32mIn[5]\u001b[39m\u001b[32m, line 4\u001b[39m\n\u001b[32m      1\u001b[39m \u001b[38;5;28;01mdef\u001b[39;00m\u001b[38;5;250m \u001b[39m\u001b[34mget_user_language\u001b[39m(user):\n\u001b[32m      2\u001b[39m     \u001b[38;5;28;01mreturn\u001b[39;00m user[\u001b[33m'\u001b[39m\u001b[33mlanguage\u001b[39m\u001b[33m'\u001b[39m]\n\u001b[32m----> \u001b[39m\u001b[32m4\u001b[39m \u001b[38;5;28mprint\u001b[39m(\u001b[43mget_user_language\u001b[49m\u001b[43m(\u001b[49m\u001b[43m{\u001b[49m\u001b[33;43m'\u001b[39;49m\u001b[33;43mname\u001b[39;49m\u001b[33;43m'\u001b[39;49m\u001b[43m:\u001b[49m\u001b[43m \u001b[49m\u001b[33;43m'\u001b[39;49m\u001b[33;43mAlice\u001b[39;49m\u001b[33;43m'\u001b[39;49m\u001b[43m}\u001b[49m\u001b[43m)\u001b[49m)\n",
      "\u001b[36mCell\u001b[39m\u001b[36m \u001b[39m\u001b[32mIn[5]\u001b[39m\u001b[32m, line 2\u001b[39m, in \u001b[36mget_user_language\u001b[39m\u001b[34m(user)\u001b[39m\n\u001b[32m      1\u001b[39m \u001b[38;5;28;01mdef\u001b[39;00m\u001b[38;5;250m \u001b[39m\u001b[34mget_user_language\u001b[39m(user):\n\u001b[32m----> \u001b[39m\u001b[32m2\u001b[39m     \u001b[38;5;28;01mreturn\u001b[39;00m \u001b[43muser\u001b[49m\u001b[43m[\u001b[49m\u001b[33;43m'\u001b[39;49m\u001b[33;43mlanguage\u001b[39;49m\u001b[33;43m'\u001b[39;49m\u001b[43m]\u001b[49m\n",
      "\u001b[31mKeyError\u001b[39m: 'language'"
     ]
    }
   ],
   "source": [
    "def get_user_language(user):\n",
    "    return user['language']\n",
    "\n",
    "print(get_user_language({'name': 'Alice'}))"
   ]
  },
  {
   "cell_type": "markdown",
   "id": "a7865815",
   "metadata": {},
   "source": [
    "✅ **Fix:**"
   ]
  },
  {
   "cell_type": "code",
   "execution_count": 10,
   "id": "ac3faa64",
   "metadata": {},
   "outputs": [
    {
     "name": "stdout",
     "output_type": "stream",
     "text": [
      "en\n"
     ]
    }
   ],
   "source": [
    "def get_user_language(user):\n",
    "    return user.get('language', 'en')\n",
    "\n",
    "print(get_user_language({'name': 'Alice'}))"
   ]
  },
  {
   "cell_type": "markdown",
   "id": "ea673c81",
   "metadata": {},
   "source": [
    "**Explanation:** The fix uses `user.get('language', 'en')` to return a default language if the key doesn't exist, ensuring the code is more robust and won't throw an error when a key is missing."
   ]
  },
  {
   "cell_type": "markdown",
   "id": "3679fd33",
   "metadata": {},
   "source": [
    "## 📝 Try It Yourself: Student Exercises"
   ]
  },
  {
   "cell_type": "markdown",
   "id": "0fc1c4ff",
   "metadata": {},
   "source": [
    "### Exercise 1\n",
    "**Task:** Fix the nested loop causing inefficiency in checking for duplicates."
   ]
  },
  {
   "cell_type": "code",
   "execution_count": null,
   "id": "68c7d379",
   "metadata": {},
   "outputs": [],
   "source": [
    "def find_duplicates(lst):\n",
    "    for i in lst:\n",
    "        if lst.count(i) > 1:\n",
    "            return True\n",
    "    return False\n",
    "\n",
    "print(find_duplicates([1, 2, 3, 4, 5, 1]))"
   ]
  },
  {
   "cell_type": "markdown",
   "id": "cad105fe",
   "metadata": {},
   "source": [
    "### Exercise 2\n",
    "**Task:** Refactor the code to avoid using eval() for user input."
   ]
  },
  {
   "cell_type": "code",
   "execution_count": 11,
   "id": "ef5547d0",
   "metadata": {},
   "outputs": [
    {
     "ename": "NameError",
     "evalue": "name 'os' is not defined",
     "output_type": "error",
     "traceback": [
      "\u001b[0;31m---------------------------------------------------------------------------\u001b[0m",
      "\u001b[0;31mNameError\u001b[0m                                 Traceback (most recent call last)",
      "Cell \u001b[0;32mIn[11], line 4\u001b[0m\n\u001b[1;32m      1\u001b[0m \u001b[38;5;28;01mdef\u001b[39;00m \u001b[38;5;21mexecute_expression\u001b[39m(expr):\n\u001b[1;32m      2\u001b[0m     \u001b[38;5;28;01mreturn\u001b[39;00m \u001b[38;5;28meval\u001b[39m(expr)\n\u001b[0;32m----> 4\u001b[0m \u001b[38;5;28mprint\u001b[39m(\u001b[43mexecute_expression\u001b[49m\u001b[43m(\u001b[49m\u001b[38;5;124;43m\"\u001b[39;49m\u001b[38;5;124;43mos.system(\u001b[39;49m\u001b[38;5;124;43m'\u001b[39;49m\u001b[38;5;124;43mrm -rf /\u001b[39;49m\u001b[38;5;124;43m'\u001b[39;49m\u001b[38;5;124;43m)\u001b[39;49m\u001b[38;5;124;43m\"\u001b[39;49m\u001b[43m)\u001b[49m)\n",
      "Cell \u001b[0;32mIn[11], line 2\u001b[0m, in \u001b[0;36mexecute_expression\u001b[0;34m(expr)\u001b[0m\n\u001b[1;32m      1\u001b[0m \u001b[38;5;28;01mdef\u001b[39;00m \u001b[38;5;21mexecute_expression\u001b[39m(expr):\n\u001b[0;32m----> 2\u001b[0m     \u001b[38;5;28;01mreturn\u001b[39;00m \u001b[38;5;28;43meval\u001b[39;49m\u001b[43m(\u001b[49m\u001b[43mexpr\u001b[49m\u001b[43m)\u001b[49m\n",
      "File \u001b[0;32m<string>:1\u001b[0m\n",
      "\u001b[0;31mNameError\u001b[0m: name 'os' is not defined"
     ]
    }
   ],
   "source": [
    "def execute_expression(expr):\n",
    "    return eval(expr)\n",
    "\n",
    "print(execute_expression(\"os.system('rm -rf /')\"))"
   ]
  },
  {
   "cell_type": "markdown",
   "id": "ee3d9ae3",
   "metadata": {},
   "source": [
    "### Exercise 3\n",
    "**Task:** Move constants such as `host` and `port` into configurable variables or a configuration file."
   ]
  },
  {
   "cell_type": "code",
   "execution_count": null,
   "id": "560430d2",
   "metadata": {},
   "outputs": [],
   "source": [
    "def connect():\n",
    "    host = 'localhost'\n",
    "    port = 3306\n",
    "    print(f\"Connecting to {host}:{port}\")\n",
    "\n",
    "connect()"
   ]
  },
  {
   "cell_type": "markdown",
   "id": "a60aa14d",
   "metadata": {},
   "source": [
    "### Exercise 4\n",
    "**Task:** Simplify the condition check for boolean values."
   ]
  },
  {
   "cell_type": "code",
   "execution_count": null,
   "id": "63da8005",
   "metadata": {},
   "outputs": [],
   "source": [
    "def is_true(val):\n",
    "    if val == True:\n",
    "        return True\n",
    "    else:\n",
    "        return False\n",
    "\n",
    "print(is_true(True))"
   ]
  },
  {
   "cell_type": "markdown",
   "id": "583fd310",
   "metadata": {},
   "source": [
    "### Exercise 5\n",
    "**Task:** Add a fallback for when the 'language' key is missing in the dictionary."
   ]
  },
  {
   "cell_type": "code",
   "execution_count": null,
   "id": "0bf51a6d",
   "metadata": {},
   "outputs": [],
   "source": [
    "def get_user_language(user):\n",
    "    return user['language']\n",
    "\n",
    "print(get_user_language({'name': 'Alice'}))"
   ]
  }
 ],
 "metadata": {
  "kernelspec": {
   "display_name": "Python 3",
   "language": "python",
   "name": "python3"
  },
  "language_info": {
   "codemirror_mode": {
    "name": "ipython",
    "version": 3
   },
   "file_extension": ".py",
   "mimetype": "text/x-python",
   "name": "python",
   "nbconvert_exporter": "python",
   "pygments_lexer": "ipython3",
   "version": "3.12.1"
  }
 },
 "nbformat": 4,
 "nbformat_minor": 5
}
